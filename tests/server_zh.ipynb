{
  "cells": [
    {
      "cell_type": "markdown",
      "metadata": {
        "id": "MtLkX4umm5L8"
      },
      "source": [
        "# 欢迎来到 `carefree-creator`!\n",
        "\n",
        "非常感谢 [@Explosion-Scratch](https://github.com/Explosion-Scratch), 本指南的诞生得益于 ta 的帮助与支持 🥳\n",
        "\n",
        "我会在接下来给出每一步要做的事情，只要跟着走，应该就不会有大问题！"
      ]
    },
    {
      "cell_type": "markdown",
      "metadata": {
        "id": "-jwOeZafnFQR"
      },
      "source": [
        "# 准备工作\n",
        "\n",
        "在 Google Colab 中，每一「块」东西被称作一个「单元（cell）」，它可以通过标题左边的“小三角”按钮来收起 / 展开\n",
        "\n",
        "> 如果您觉得屏幕上输出太多，就可以通过这个“小三角”把它们收起来！\n",
        "> \n",
        "> 当然，为了保证每个单元都被运行到，一开始最好保持都展开的状态 😉"
      ]
    },
    {
      "cell_type": "markdown",
      "metadata": {
        "id": "JwtpeyvMnN9X"
      },
      "source": [
        "## 安装 `ngrok`\n",
        "\n",
        "点击下面单元左边的“播放”按钮并运行，直到“播放”按钮的左边出现一个绿色的 √ 符号："
      ]
    },
    {
      "cell_type": "code",
      "execution_count": null,
      "metadata": {
        "id": "WYLDlqa9jwBV"
      },
      "outputs": [],
      "source": [
        "!curl -s https://ngrok-agent.s3.amazonaws.com/ngrok.asc | sudo tee /etc/apt/trusted.gpg.d/ngrok.asc >/dev/null && echo \"deb https://ngrok-agent.s3.amazonaws.com buster main\" | sudo tee /etc/apt/sources.list.d/ngrok.list && sudo apt update && sudo apt install ngrok"
      ]
    },
    {
      "cell_type": "markdown",
      "metadata": {
        "id": "hikDvG0jnQY4"
      },
      "source": [
        "## 安装 `carefree-creator`\n",
        "\n",
        "点击下面单元左边的“播放”按钮并运行，直到“播放”按钮的左边出现一个绿色的 √ 符号："
      ]
    },
    {
      "cell_type": "code",
      "execution_count": null,
      "metadata": {
        "id": "3Ow0RGwqi_yI"
      },
      "outputs": [],
      "source": [
        "%cd /content\n",
        "!git clone https://github.com/carefree0910/carefree-creator.git\n",
        "!curl https://bootstrap.pypa.io/get-pip.py | sudo python3\n",
        "%cd /content/carefree-creator\n",
        "!sudo apt install python3.9\n",
        "!sudo rm /usr/bin/python3\n",
        "!sudo ln -s python3.9 /usr/bin/python3\n",
        "!python3 --version\n",
        "!sudo apt install python3.9-distutils\n",
        "!curl https://bootstrap.pypa.io/get-pip.py -o get-pip.py\n",
        "!python3 get-pip.py\n",
        "!python3 -m pip install --trusted-host pypi.org --trusted-host files.pythonhosted.org -e ."
      ]
    },
    {
      "cell_type": "markdown",
      "metadata": {
        "id": "FTtHWUDtnT8k"
      },
      "source": [
        "## 安装辅助工具\n",
        "\n",
        "点击下面单元左边的“播放”按钮并运行，直到“播放”按钮的左边出现一个绿色的 √ 符号："
      ]
    },
    {
      "cell_type": "code",
      "execution_count": null,
      "metadata": {
        "id": "ocvJfLlT442_"
      },
      "outputs": [],
      "source": [
        "!python3 -m pip install torch torchvision torchaudio --extra-index-url https://download.pytorch.org/whl/cu113\n",
        "!python3 -m pip install pyngrok"
      ]
    },
    {
      "cell_type": "markdown",
      "metadata": {
        "id": "9CfFI1eSnZr_"
      },
      "source": [
        "# 配置 `ngrok`\n",
        "\n",
        "这一步会稍微有些复杂！\n",
        "1. 首先，需要访问[这里](https://dashboard.ngrok.com/get-started/your-authtoken) 来获得您一个叫 `Authtoken` 的东西\n",
        "  - 如果您尚未注册过这个网站，则需要按照它的引导进行注册（免费且快捷！），然后再访问[这个链接](https://dashboard.ngrok.com/get-started/your-authtoken)\n",
        "\n",
        "2. 在成功访问后，您应该会看到这么一个界面：\n",
        "\n",
        "![ngrok authtoken](https://github.com/carefree0910/datasets/releases/download/static/ngrok_authtoken.png)\n",
        "\n",
        "您可以直接复制我涂了红色方块部分的文本，或者点击右边的 `Copy` 按钮，来复制您的 `Authtoken`。然后，在下面单元的 `PASTE_YOUR_NGROK_AUTH_HERE` 部分，把您的这个 `Authtoken` 粘贴并替换进去。\n",
        "\n",
        "最后，下面单元中的文字应该形如：\n",
        "\n",
        "```bash\n",
        "!ngrok authtoken xxxxxxxxxxx\n",
        "```\n",
        "\n",
        "> xxxxxxxxxxx 即是您粘贴进来的 `Authtoken`，每个人的 `Authtoken` 都不一样，这里展示 xxxxxxxxxxx 只是作为提示哦~\n",
        "\n",
        "配置完成之后，点击下面单元左边的“播放”按钮并运行，直到“播放”按钮的左边出现一个绿色的 √ 符号："
      ]
    },
    {
      "cell_type": "code",
      "execution_count": null,
      "metadata": {
        "id": "hTrXjsydXSTL"
      },
      "outputs": [],
      "source": [
        "!ngrok authtoken PASTE_YOUR_NGROK_AUTH_HERE"
      ]
    },
    {
      "cell_type": "markdown",
      "metadata": {
        "id": "tBEq2atIoGXj"
      },
      "source": [
        "# 启动 `carefree-creator` 服务\n",
        "\n",
        "点击下面单元左边的“播放”按钮并运行，直到“播放”按钮的左边出现一个绿色的 √ 符号："
      ]
    },
    {
      "cell_type": "code",
      "execution_count": null,
      "metadata": {
        "colab": {
          "background_save": true
        },
        "id": "vebcqNfJc98L"
      },
      "outputs": [],
      "source": [
        "!python3 -c \"import os; from pyngrok import ngrok; print('\\nPaste the following url to the WebUI:', ngrok.connect(8123, bind_tls=True).public_url, '\\n'); os.system('uvicorn apis.interface:app --host 0.0.0.0 --port 8123')\""
      ]
    },
    {
      "cell_type": "markdown",
      "source": [
        "这一步会要运行比较久，以下是一些注意事项：\n",
        "\n",
        "- 第一次运行上面单元时，会比之后运行要等更久，因为我们要花不少时间去下载算法模型。\n",
        "- 在运行上面单元后，它应该会打印出如下文字：\n",
        "\n",
        "```bash\n",
        "Paste the following url to the WebUI: https://ff7f-35-197-139-79.ngrok.io\n",
        "```\n",
        "\n",
        "> 注意：上面这个网址，https://ff7f-35-197-139-79.ngrok.io/ ，是每个人、每次运行时都不一样的哦~\n",
        "\n",
        "- 此时，需要点击这个网址，您应该会看到类似这样的页面：\n",
        "\n",
        "![visit ngrok](https://github.com/carefree0910/datasets/releases/download/static/visit_ngrok.png)\n",
        "\n",
        "猛击 `Visit Site` 按钮，它会跳转到一个看上去不太对的网页，没关系，因为此时就已经配置好了！😆\n",
        "\n",
        "- 上述步骤都做完之后，我们就只需要等待了，等待我们进行模型的下载、加载等。如果您终于等到了单元的最后一行的最后出现形如\n",
        "\n",
        "```bash\n",
        "Uvicorn running on http://0.0.0.0:8123 (Press CTRL+C to quit)\n",
        "```\n",
        "\n",
        "的字样，那么说明一切就都准备就绪了！此时，只需把单元一开始打印出来的\n",
        "\n",
        "```bash\n",
        "Paste the following url to the WebUI: https://ff7f-35-197-139-79.ngrok.io\n",
        "```\n",
        "\n",
        "> 注意：上面这个网址，https://ff7f-35-197-139-79.ngrok.io/ ，是每个人、每次运行时都不一样的哦~\n",
        "\n",
        "里面，后面的那个网址（url），复制粘贴到我们产品中下图所示的位置：\n",
        "\n",
        "![paste url](https://github.com/carefree0910/datasets/releases/download/static/paste_ngrok_url_to_webui.png)\n",
        "\n",
        "在做完所有这些步骤后，您就可以继续使用我们的产品了！只是此时，您不再需要排队，而是会用这里的算力、模型来进行生成！🥳"
      ],
      "metadata": {
        "id": "VVVatvlM7eue"
      }
    }
  ],
  "metadata": {
    "accelerator": "GPU",
    "colab": {
      "collapsed_sections": [],
      "provenance": []
    },
    "gpuClass": "standard",
    "kernelspec": {
      "display_name": "Python 3",
      "name": "python3"
    },
    "language_info": {
      "name": "python"
    }
  },
  "nbformat": 4,
  "nbformat_minor": 0
}