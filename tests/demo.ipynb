{
  "nbformat": 4,
  "nbformat_minor": 0,
  "metadata": {
    "colab": {
      "provenance": [],
      "collapsed_sections": [
        "stFI55Sj6ydU",
        "UhaxBpvt64Co",
        "a9Rxn8KJCWcm",
        "y1iaTDgF7Bay",
        "YEyTlwJLJK7F",
        "15YrptUgQyn9",
        "D6yL3khwSVmt",
        "RA1v-BY-SZyT"
      ]
    },
    "kernelspec": {
      "name": "python3",
      "display_name": "Python 3"
    },
    "language_info": {
      "name": "python"
    },
    "accelerator": "GPU",
    "gpuClass": "standard"
  },
  "cells": [
    {
      "cell_type": "markdown",
      "source": [
        "# Welcome to `carefree-creator`!"
      ],
      "metadata": {
        "id": "7Q-1jJeX6e40"
      }
    },
    {
      "cell_type": "markdown",
      "source": [
        "# Setup"
      ],
      "metadata": {
        "id": "stFI55Sj6ydU"
      }
    },
    {
      "cell_type": "markdown",
      "source": [
        "## 1.0"
      ],
      "metadata": {
        "id": "UhaxBpvt64Co"
      }
    },
    {
      "cell_type": "code",
      "source": [
        "!nvidia-smi"
      ],
      "metadata": {
        "colab": {
          "base_uri": "https://localhost:8080/"
        },
        "id": "oiUXdv1b67mG",
        "outputId": "8a756d57-8bb7-4404-a437-d89c870029ca"
      },
      "execution_count": 9,
      "outputs": [
        {
          "output_type": "stream",
          "name": "stdout",
          "text": [
            "Tue Sep 13 10:46:23 2022       \n",
            "+-----------------------------------------------------------------------------+\n",
            "| NVIDIA-SMI 460.32.03    Driver Version: 460.32.03    CUDA Version: 11.2     |\n",
            "|-------------------------------+----------------------+----------------------+\n",
            "| GPU  Name        Persistence-M| Bus-Id        Disp.A | Volatile Uncorr. ECC |\n",
            "| Fan  Temp  Perf  Pwr:Usage/Cap|         Memory-Usage | GPU-Util  Compute M. |\n",
            "|                               |                      |               MIG M. |\n",
            "|===============================+======================+======================|\n",
            "|   0  Tesla T4            Off  | 00000000:00:04.0 Off |                    0 |\n",
            "| N/A   38C    P8     9W /  70W |      0MiB / 15109MiB |      0%      Default |\n",
            "|                               |                      |                  N/A |\n",
            "+-------------------------------+----------------------+----------------------+\n",
            "                                                                               \n",
            "+-----------------------------------------------------------------------------+\n",
            "| Processes:                                                                  |\n",
            "|  GPU   GI   CI        PID   Type   Process name                  GPU Memory |\n",
            "|        ID   ID                                                   Usage      |\n",
            "|=============================================================================|\n",
            "|  No running processes found                                                 |\n",
            "+-----------------------------------------------------------------------------+\n"
          ]
        }
      ]
    },
    {
      "cell_type": "markdown",
      "source": [
        "## 1.1 Change Python version"
      ],
      "metadata": {
        "id": "a9Rxn8KJCWcm"
      }
    },
    {
      "cell_type": "code",
      "source": [
        "!sudo apt-get update -y\n",
        "!sudo apt-get install python3.8\n",
        "\n",
        "!sudo update-alternatives --install /usr/bin/python3 python3 /usr/bin/python3.7 1\n",
        "!sudo update-alternatives --install /usr/bin/python3 python3 /usr/bin/python3.8 2\n",
        "\n",
        "!sudo apt-get install python3-pip\n",
        "!python -m pip install --upgrade pip\n",
        "!python --version"
      ],
      "metadata": {
        "colab": {
          "base_uri": "https://localhost:8080/"
        },
        "id": "nw6BA9T3Cb5S",
        "outputId": "26d4791a-5ff4-4c59-9e8a-9d05af9565c0"
      },
      "execution_count": 10,
      "outputs": [
        {
          "output_type": "stream",
          "name": "stdout",
          "text": [
            "\r0% [Working]\r            \rGet:1 http://security.ubuntu.com/ubuntu bionic-security InRelease [88.7 kB]\n",
            "\r0% [Connecting to archive.ubuntu.com (185.125.190.36)] [1 InRelease 14.2 kB/88.\r0% [Connecting to archive.ubuntu.com (185.125.190.36)] [Connected to cloud.r-pr\r0% [1 InRelease gpgv 88.7 kB] [Connecting to archive.ubuntu.com (185.125.190.36\r                                                                               \rHit:2 https://cloud.r-project.org/bin/linux/ubuntu bionic-cran40/ InRelease\n",
            "Hit:3 http://archive.ubuntu.com/ubuntu bionic InRelease\n",
            "Hit:4 http://ppa.launchpad.net/c2d4u.team/c2d4u4.0+/ubuntu bionic InRelease\n",
            "Ign:5 https://developer.download.nvidia.com/compute/machine-learning/repos/ubuntu1804/x86_64  InRelease\n",
            "Get:6 http://archive.ubuntu.com/ubuntu bionic-updates InRelease [88.7 kB]\n",
            "Hit:7 https://developer.download.nvidia.com/compute/cuda/repos/ubuntu1804/x86_64  InRelease\n",
            "Hit:8 https://developer.download.nvidia.com/compute/machine-learning/repos/ubuntu1804/x86_64  Release\n",
            "Hit:9 http://ppa.launchpad.net/cran/libgit2/ubuntu bionic InRelease\n",
            "Get:10 http://archive.ubuntu.com/ubuntu bionic-backports InRelease [74.6 kB]\n",
            "Hit:11 http://ppa.launchpad.net/deadsnakes/ppa/ubuntu bionic InRelease\n",
            "Hit:12 http://ppa.launchpad.net/graphics-drivers/ppa/ubuntu bionic InRelease\n",
            "Fetched 252 kB in 1s (186 kB/s)\n",
            "Reading package lists... Done\n",
            "Reading package lists... Done\n",
            "Building dependency tree       \n",
            "Reading state information... Done\n",
            "python3.8 is already the newest version (3.8.14-1+bionic1).\n",
            "The following package was automatically installed and is no longer required:\n",
            "  libnvidia-common-460\n",
            "Use 'sudo apt autoremove' to remove it.\n",
            "0 upgraded, 0 newly installed, 0 to remove and 49 not upgraded.\n",
            "Reading package lists... Done\n",
            "Building dependency tree       \n",
            "Reading state information... Done\n",
            "python3-pip is already the newest version (9.0.1-2.3~ubuntu1.18.04.5).\n",
            "The following package was automatically installed and is no longer required:\n",
            "  libnvidia-common-460\n",
            "Use 'sudo apt autoremove' to remove it.\n",
            "0 upgraded, 0 newly installed, 0 to remove and 49 not upgraded.\n",
            "Looking in indexes: https://pypi.org/simple, https://us-python.pkg.dev/colab-wheels/public/simple/\n",
            "Requirement already satisfied: pip in /usr/local/lib/python3.8/dist-packages (22.2.2)\n",
            "\u001b[33mWARNING: Running pip as the 'root' user can result in broken permissions and conflicting behaviour with the system package manager. It is recommended to use a virtual environment instead: https://pip.pypa.io/warnings/venv\u001b[0m\u001b[33m\n",
            "\u001b[0mPython 3.8.14\n"
          ]
        }
      ]
    },
    {
      "cell_type": "markdown",
      "source": [
        "## 1.2 Install Dependencies"
      ],
      "metadata": {
        "id": "y1iaTDgF7Bay"
      }
    },
    {
      "cell_type": "code",
      "execution_count": 11,
      "metadata": {
        "colab": {
          "base_uri": "https://localhost:8080/"
        },
        "id": "A34aHE202923",
        "outputId": "79bde38b-9b4b-4b04-d9aa-5fb928924b44"
      },
      "outputs": [
        {
          "output_type": "stream",
          "name": "stdout",
          "text": [
            "Looking in indexes: https://pypi.org/simple, https://us-python.pkg.dev/colab-wheels/public/simple/, https://download.pytorch.org/whl/cu113\n",
            "Requirement already satisfied: torch in /usr/local/lib/python3.8/dist-packages (1.12.1+cu113)\n",
            "Requirement already satisfied: torchvision in /usr/local/lib/python3.8/dist-packages (0.13.1+cu113)\n",
            "Requirement already satisfied: torchaudio in /usr/local/lib/python3.8/dist-packages (0.12.1+cu113)\n",
            "Requirement already satisfied: typing-extensions in /usr/local/lib/python3.8/dist-packages (from torch) (4.3.0)\n",
            "Requirement already satisfied: numpy in /usr/local/lib/python3.8/dist-packages (from torchvision) (1.23.3)\n",
            "Requirement already satisfied: pillow!=8.3.*,>=5.3.0 in /usr/local/lib/python3.8/dist-packages (from torchvision) (9.2.0)\n",
            "Requirement already satisfied: requests in /usr/local/lib/python3.8/dist-packages (from torchvision) (2.28.1)\n",
            "Requirement already satisfied: certifi>=2017.4.17 in /usr/local/lib/python3.8/dist-packages (from requests->torchvision) (2022.6.15.1)\n",
            "Requirement already satisfied: charset-normalizer<3,>=2 in /usr/local/lib/python3.8/dist-packages (from requests->torchvision) (2.1.1)\n",
            "Requirement already satisfied: idna<4,>=2.5 in /usr/local/lib/python3.8/dist-packages (from requests->torchvision) (3.3)\n",
            "Requirement already satisfied: urllib3<1.27,>=1.21.1 in /usr/local/lib/python3.8/dist-packages (from requests->torchvision) (1.26.12)\n",
            "\u001b[33mWARNING: Running pip as the 'root' user can result in broken permissions and conflicting behaviour with the system package manager. It is recommended to use a virtual environment instead: https://pip.pypa.io/warnings/venv\u001b[0m\u001b[33m\n",
            "\u001b[0mCloning into 'carefree-learn'...\n",
            "remote: Enumerating objects: 28823, done.\u001b[K\n",
            "remote: Counting objects: 100% (6662/6662), done.\u001b[K\n",
            "remote: Compressing objects: 100% (1956/1956), done.\u001b[K\n",
            "remote: Total 28823 (delta 4841), reused 6353 (delta 4616), pack-reused 22161\u001b[K\n",
            "Receiving objects: 100% (28823/28823), 4.08 MiB | 22.24 MiB/s, done.\n",
            "Resolving deltas: 100% (20584/20584), done.\n",
            "Cloning into 'carefree-creator'...\n",
            "remote: Enumerating objects: 21, done.\u001b[K\n",
            "remote: Counting objects: 100% (21/21), done.\u001b[K\n",
            "remote: Compressing objects: 100% (13/13), done.\u001b[K\n",
            "remote: Total 21 (delta 4), reused 20 (delta 4), pack-reused 0\u001b[K\n",
            "Unpacking objects: 100% (21/21), done.\n",
            "Looking in indexes: https://pypi.org/simple, https://us-python.pkg.dev/colab-wheels/public/simple/\n",
            "Obtaining file:///content/carefree-learn\n",
            "  Preparing metadata (setup.py) ... \u001b[?25l\u001b[?25hdone\n",
            "Requirement already satisfied: carefree-toolkit>=0.2.17 in /usr/local/lib/python3.8/dist-packages (from carefree-learn==0.3.1) (0.2.18)\n",
            "Requirement already satisfied: albumentations in /usr/local/lib/python3.8/dist-packages (from carefree-learn==0.3.1) (1.2.1)\n",
            "Requirement already satisfied: carefree-cv>=0.1.0 in /usr/local/lib/python3.8/dist-packages (from carefree-learn==0.3.1) (0.1.0)\n",
            "Requirement already satisfied: ftfy in /usr/local/lib/python3.8/dist-packages (from carefree-learn==0.3.1) (6.1.1)\n",
            "Requirement already satisfied: lmdb in /usr/local/lib/python3.8/dist-packages (from carefree-learn==0.3.1) (1.3.0)\n",
            "Requirement already satisfied: onnx in /usr/local/lib/python3.8/dist-packages (from carefree-learn==0.3.1) (1.12.0)\n",
            "Requirement already satisfied: onnx-simplifier>=0.4.1 in /usr/local/lib/python3.8/dist-packages (from carefree-learn==0.3.1) (0.4.8)\n",
            "Requirement already satisfied: onnxruntime in /usr/local/lib/python3.8/dist-packages (from carefree-learn==0.3.1) (1.12.1)\n",
            "Requirement already satisfied: regex in /usr/local/lib/python3.8/dist-packages (from carefree-learn==0.3.1) (2022.9.13)\n",
            "Requirement already satisfied: pillow in /usr/local/lib/python3.8/dist-packages (from carefree-cv>=0.1.0->carefree-learn==0.3.1) (9.2.0)\n",
            "Requirement already satisfied: scipy>=1.8.0 in /usr/local/lib/python3.8/dist-packages (from carefree-cv>=0.1.0->carefree-learn==0.3.1) (1.9.1)\n",
            "Requirement already satisfied: scikit-image in /usr/local/lib/python3.8/dist-packages (from carefree-cv>=0.1.0->carefree-learn==0.3.1) (0.19.3)\n",
            "Requirement already satisfied: opencv-python-headless in /usr/local/lib/python3.8/dist-packages (from carefree-cv>=0.1.0->carefree-learn==0.3.1) (4.6.0.66)\n",
            "Requirement already satisfied: pathos in /usr/local/lib/python3.8/dist-packages (from carefree-toolkit>=0.2.17->carefree-learn==0.3.1) (0.2.9)\n",
            "Requirement already satisfied: future in /usr/local/lib/python3.8/dist-packages (from carefree-toolkit>=0.2.17->carefree-learn==0.3.1) (0.18.2)\n",
            "Requirement already satisfied: psutil in /usr/local/lib/python3.8/dist-packages (from carefree-toolkit>=0.2.17->carefree-learn==0.3.1) (5.9.2)\n",
            "Requirement already satisfied: numpy>=1.22.3 in /usr/local/lib/python3.8/dist-packages (from carefree-toolkit>=0.2.17->carefree-learn==0.3.1) (1.23.3)\n",
            "Requirement already satisfied: dill in /usr/local/lib/python3.8/dist-packages (from carefree-toolkit>=0.2.17->carefree-learn==0.3.1) (0.3.5.1)\n",
            "Requirement already satisfied: tqdm in /usr/local/lib/python3.8/dist-packages (from carefree-toolkit>=0.2.17->carefree-learn==0.3.1) (4.64.1)\n",
            "Requirement already satisfied: rich in /usr/local/lib/python3.8/dist-packages (from onnx-simplifier>=0.4.1->carefree-learn==0.3.1) (12.5.1)\n",
            "Requirement already satisfied: qudida>=0.0.4 in /usr/local/lib/python3.8/dist-packages (from albumentations->carefree-learn==0.3.1) (0.0.4)\n",
            "Requirement already satisfied: PyYAML in /usr/local/lib/python3.8/dist-packages (from albumentations->carefree-learn==0.3.1) (6.0)\n",
            "Requirement already satisfied: wcwidth>=0.2.5 in /usr/local/lib/python3.8/dist-packages (from ftfy->carefree-learn==0.3.1) (0.2.5)\n",
            "Requirement already satisfied: typing-extensions>=3.6.2.1 in /usr/local/lib/python3.8/dist-packages (from onnx->carefree-learn==0.3.1) (4.3.0)\n",
            "Requirement already satisfied: protobuf<=3.20.1,>=3.12.2 in /usr/local/lib/python3.8/dist-packages (from onnx->carefree-learn==0.3.1) (3.20.1)\n",
            "Requirement already satisfied: sympy in /usr/local/lib/python3.8/dist-packages (from onnxruntime->carefree-learn==0.3.1) (1.11.1)\n",
            "Requirement already satisfied: packaging in /usr/local/lib/python3.8/dist-packages (from onnxruntime->carefree-learn==0.3.1) (21.3)\n",
            "Requirement already satisfied: coloredlogs in /usr/local/lib/python3.8/dist-packages (from onnxruntime->carefree-learn==0.3.1) (15.0.1)\n",
            "Requirement already satisfied: flatbuffers in /usr/local/lib/python3.8/dist-packages (from onnxruntime->carefree-learn==0.3.1) (2.0.7)\n",
            "Requirement already satisfied: scikit-learn>=0.19.1 in /usr/local/lib/python3.8/dist-packages (from qudida>=0.0.4->albumentations->carefree-learn==0.3.1) (1.1.2)\n",
            "Requirement already satisfied: imageio>=2.4.1 in /usr/local/lib/python3.8/dist-packages (from scikit-image->carefree-cv>=0.1.0->carefree-learn==0.3.1) (2.21.3)\n",
            "Requirement already satisfied: tifffile>=2019.7.26 in /usr/local/lib/python3.8/dist-packages (from scikit-image->carefree-cv>=0.1.0->carefree-learn==0.3.1) (2022.8.12)\n",
            "Requirement already satisfied: PyWavelets>=1.1.1 in /usr/local/lib/python3.8/dist-packages (from scikit-image->carefree-cv>=0.1.0->carefree-learn==0.3.1) (1.3.0)\n",
            "Requirement already satisfied: networkx>=2.2 in /usr/local/lib/python3.8/dist-packages (from scikit-image->carefree-cv>=0.1.0->carefree-learn==0.3.1) (2.8.6)\n",
            "Requirement already satisfied: pyparsing!=3.0.5,>=2.0.2 in /usr/local/lib/python3.8/dist-packages (from packaging->onnxruntime->carefree-learn==0.3.1) (3.0.9)\n",
            "Requirement already satisfied: humanfriendly>=9.1 in /usr/local/lib/python3.8/dist-packages (from coloredlogs->onnxruntime->carefree-learn==0.3.1) (10.0)\n",
            "Requirement already satisfied: ppft>=1.7.6.5 in /usr/local/lib/python3.8/dist-packages (from pathos->carefree-toolkit>=0.2.17->carefree-learn==0.3.1) (1.7.6.5)\n",
            "Requirement already satisfied: pox>=0.3.1 in /usr/local/lib/python3.8/dist-packages (from pathos->carefree-toolkit>=0.2.17->carefree-learn==0.3.1) (0.3.1)\n",
            "Requirement already satisfied: multiprocess>=0.70.13 in /usr/local/lib/python3.8/dist-packages (from pathos->carefree-toolkit>=0.2.17->carefree-learn==0.3.1) (0.70.13)\n",
            "Requirement already satisfied: pygments<3.0.0,>=2.6.0 in /usr/local/lib/python3.8/dist-packages (from rich->onnx-simplifier>=0.4.1->carefree-learn==0.3.1) (2.13.0)\n",
            "Requirement already satisfied: commonmark<0.10.0,>=0.9.0 in /usr/local/lib/python3.8/dist-packages (from rich->onnx-simplifier>=0.4.1->carefree-learn==0.3.1) (0.9.1)\n",
            "Requirement already satisfied: mpmath>=0.19 in /usr/local/lib/python3.8/dist-packages (from sympy->onnxruntime->carefree-learn==0.3.1) (1.2.1)\n",
            "Requirement already satisfied: six>=1.7.3 in /usr/lib/python3/dist-packages (from ppft>=1.7.6.5->pathos->carefree-toolkit>=0.2.17->carefree-learn==0.3.1) (1.11.0)\n",
            "Requirement already satisfied: threadpoolctl>=2.0.0 in /usr/local/lib/python3.8/dist-packages (from scikit-learn>=0.19.1->qudida>=0.0.4->albumentations->carefree-learn==0.3.1) (3.1.0)\n",
            "Requirement already satisfied: joblib>=1.0.0 in /usr/local/lib/python3.8/dist-packages (from scikit-learn>=0.19.1->qudida>=0.0.4->albumentations->carefree-learn==0.3.1) (1.1.0)\n",
            "Installing collected packages: carefree-learn\n",
            "  Running setup.py develop for carefree-learn\n",
            "Successfully installed carefree-learn\n",
            "\u001b[33mWARNING: Running pip as the 'root' user can result in broken permissions and conflicting behaviour with the system package manager. It is recommended to use a virtual environment instead: https://pip.pypa.io/warnings/venv\u001b[0m\u001b[33m\n",
            "\u001b[0mLooking in indexes: https://pypi.org/simple, https://us-python.pkg.dev/colab-wheels/public/simple/\n",
            "Obtaining file:///content/carefree-creator\n",
            "  Preparing metadata (setup.py) ... \u001b[?25l\u001b[?25hdone\n",
            "Requirement already satisfied: carefree-client>=0.1.2 in /usr/local/lib/python3.8/dist-packages (from carefree-creator==0.1.0) (0.1.2)\n",
            "Requirement already satisfied: carefree-learn[cv]>=0.3.1 in /content/carefree-learn (from carefree-creator==0.1.0) (0.3.1)\n",
            "Requirement already satisfied: starlette in /usr/local/lib/python3.8/dist-packages (from carefree-client>=0.1.2->carefree-creator==0.1.0) (0.19.1)\n",
            "Requirement already satisfied: requests in /usr/local/lib/python3.8/dist-packages (from carefree-client>=0.1.2->carefree-creator==0.1.0) (2.28.1)\n",
            "Requirement already satisfied: regex in /usr/local/lib/python3.8/dist-packages (from carefree-client>=0.1.2->carefree-creator==0.1.0) (2022.9.13)\n",
            "Requirement already satisfied: python-multipart in /usr/local/lib/python3.8/dist-packages (from carefree-client>=0.1.2->carefree-creator==0.1.0) (0.0.5)\n",
            "Requirement already satisfied: numpy>=1.22.3 in /usr/local/lib/python3.8/dist-packages (from carefree-client>=0.1.2->carefree-creator==0.1.0) (1.23.3)\n",
            "Requirement already satisfied: pydantic in /usr/local/lib/python3.8/dist-packages (from carefree-client>=0.1.2->carefree-creator==0.1.0) (1.10.2)\n",
            "Requirement already satisfied: tqdm in /usr/local/lib/python3.8/dist-packages (from carefree-client>=0.1.2->carefree-creator==0.1.0) (4.64.1)\n",
            "Requirement already satisfied: gevent in /usr/local/lib/python3.8/dist-packages (from carefree-client>=0.1.2->carefree-creator==0.1.0) (21.12.0)\n",
            "Requirement already satisfied: fastapi in /usr/local/lib/python3.8/dist-packages (from carefree-client>=0.1.2->carefree-creator==0.1.0) (0.83.0)\n",
            "Requirement already satisfied: uvicorn[standard] in /usr/local/lib/python3.8/dist-packages (from carefree-client>=0.1.2->carefree-creator==0.1.0) (0.18.3)\n",
            "Requirement already satisfied: PyYaml in /usr/local/lib/python3.8/dist-packages (from carefree-client>=0.1.2->carefree-creator==0.1.0) (6.0)\n",
            "Requirement already satisfied: geventhttpclient in /usr/local/lib/python3.8/dist-packages (from carefree-client>=0.1.2->carefree-creator==0.1.0) (2.0.2)\n",
            "Requirement already satisfied: requests-toolbelt in /usr/local/lib/python3.8/dist-packages (from carefree-client>=0.1.2->carefree-creator==0.1.0) (0.9.1)\n",
            "Requirement already satisfied: dill in /usr/local/lib/python3.8/dist-packages (from carefree-client>=0.1.2->carefree-creator==0.1.0) (0.3.5.1)\n",
            "Requirement already satisfied: sqlmodel in /usr/local/lib/python3.8/dist-packages (from carefree-client>=0.1.2->carefree-creator==0.1.0) (0.0.8)\n",
            "Requirement already satisfied: ftfy in /usr/local/lib/python3.8/dist-packages (from carefree-client>=0.1.2->carefree-creator==0.1.0) (6.1.1)\n",
            "Requirement already satisfied: pillow in /usr/local/lib/python3.8/dist-packages (from carefree-client>=0.1.2->carefree-creator==0.1.0) (9.2.0)\n",
            "Requirement already satisfied: aiohttp in /usr/local/lib/python3.8/dist-packages (from carefree-client>=0.1.2->carefree-creator==0.1.0) (3.8.1)\n",
            "Requirement already satisfied: email-validator in /usr/local/lib/python3.8/dist-packages (from carefree-client>=0.1.2->carefree-creator==0.1.0) (1.2.1)\n",
            "Requirement already satisfied: carefree-toolkit>=0.2.17 in /usr/local/lib/python3.8/dist-packages (from carefree-learn[cv]>=0.3.1->carefree-creator==0.1.0) (0.2.18)\n",
            "Requirement already satisfied: albumentations in /usr/local/lib/python3.8/dist-packages (from carefree-learn[cv]>=0.3.1->carefree-creator==0.1.0) (1.2.1)\n",
            "Requirement already satisfied: carefree-cv>=0.1.0 in /usr/local/lib/python3.8/dist-packages (from carefree-learn[cv]>=0.3.1->carefree-creator==0.1.0) (0.1.0)\n",
            "Requirement already satisfied: lmdb in /usr/local/lib/python3.8/dist-packages (from carefree-learn[cv]>=0.3.1->carefree-creator==0.1.0) (1.3.0)\n",
            "Requirement already satisfied: onnx in /usr/local/lib/python3.8/dist-packages (from carefree-learn[cv]>=0.3.1->carefree-creator==0.1.0) (1.12.0)\n",
            "Requirement already satisfied: onnx-simplifier>=0.4.1 in /usr/local/lib/python3.8/dist-packages (from carefree-learn[cv]>=0.3.1->carefree-creator==0.1.0) (0.4.8)\n",
            "Requirement already satisfied: onnxruntime in /usr/local/lib/python3.8/dist-packages (from carefree-learn[cv]>=0.3.1->carefree-creator==0.1.0) (1.12.1)\n",
            "Requirement already satisfied: opencv-python-headless in /usr/local/lib/python3.8/dist-packages (from carefree-cv>=0.1.0->carefree-learn[cv]>=0.3.1->carefree-creator==0.1.0) (4.6.0.66)\n",
            "Requirement already satisfied: scipy>=1.8.0 in /usr/local/lib/python3.8/dist-packages (from carefree-cv>=0.1.0->carefree-learn[cv]>=0.3.1->carefree-creator==0.1.0) (1.9.1)\n",
            "Requirement already satisfied: scikit-image in /usr/local/lib/python3.8/dist-packages (from carefree-cv>=0.1.0->carefree-learn[cv]>=0.3.1->carefree-creator==0.1.0) (0.19.3)\n",
            "Requirement already satisfied: future in /usr/local/lib/python3.8/dist-packages (from carefree-toolkit>=0.2.17->carefree-learn[cv]>=0.3.1->carefree-creator==0.1.0) (0.18.2)\n",
            "Requirement already satisfied: psutil in /usr/local/lib/python3.8/dist-packages (from carefree-toolkit>=0.2.17->carefree-learn[cv]>=0.3.1->carefree-creator==0.1.0) (5.9.2)\n",
            "Requirement already satisfied: pathos in /usr/local/lib/python3.8/dist-packages (from carefree-toolkit>=0.2.17->carefree-learn[cv]>=0.3.1->carefree-creator==0.1.0) (0.2.9)\n",
            "Requirement already satisfied: rich in /usr/local/lib/python3.8/dist-packages (from onnx-simplifier>=0.4.1->carefree-learn[cv]>=0.3.1->carefree-creator==0.1.0) (12.5.1)\n",
            "Requirement already satisfied: attrs>=17.3.0 in /usr/local/lib/python3.8/dist-packages (from aiohttp->carefree-client>=0.1.2->carefree-creator==0.1.0) (22.1.0)\n",
            "Requirement already satisfied: async-timeout<5.0,>=4.0.0a3 in /usr/local/lib/python3.8/dist-packages (from aiohttp->carefree-client>=0.1.2->carefree-creator==0.1.0) (4.0.2)\n",
            "Requirement already satisfied: charset-normalizer<3.0,>=2.0 in /usr/local/lib/python3.8/dist-packages (from aiohttp->carefree-client>=0.1.2->carefree-creator==0.1.0) (2.1.1)\n",
            "Requirement already satisfied: multidict<7.0,>=4.5 in /usr/local/lib/python3.8/dist-packages (from aiohttp->carefree-client>=0.1.2->carefree-creator==0.1.0) (6.0.2)\n",
            "Requirement already satisfied: yarl<2.0,>=1.0 in /usr/local/lib/python3.8/dist-packages (from aiohttp->carefree-client>=0.1.2->carefree-creator==0.1.0) (1.8.1)\n",
            "Requirement already satisfied: aiosignal>=1.1.2 in /usr/local/lib/python3.8/dist-packages (from aiohttp->carefree-client>=0.1.2->carefree-creator==0.1.0) (1.2.0)\n",
            "Requirement already satisfied: frozenlist>=1.1.1 in /usr/local/lib/python3.8/dist-packages (from aiohttp->carefree-client>=0.1.2->carefree-creator==0.1.0) (1.3.1)\n",
            "Requirement already satisfied: qudida>=0.0.4 in /usr/local/lib/python3.8/dist-packages (from albumentations->carefree-learn[cv]>=0.3.1->carefree-creator==0.1.0) (0.0.4)\n",
            "Requirement already satisfied: dnspython>=1.15.0 in /usr/local/lib/python3.8/dist-packages (from email-validator->carefree-client>=0.1.2->carefree-creator==0.1.0) (2.2.1)\n",
            "Requirement already satisfied: idna>=2.0.0 in /usr/local/lib/python3.8/dist-packages (from email-validator->carefree-client>=0.1.2->carefree-creator==0.1.0) (3.3)\n",
            "Requirement already satisfied: anyio<5,>=3.4.0 in /usr/local/lib/python3.8/dist-packages (from starlette->carefree-client>=0.1.2->carefree-creator==0.1.0) (3.6.1)\n",
            "Requirement already satisfied: typing-extensions>=3.10.0 in /usr/local/lib/python3.8/dist-packages (from starlette->carefree-client>=0.1.2->carefree-creator==0.1.0) (4.3.0)\n",
            "Requirement already satisfied: wcwidth>=0.2.5 in /usr/local/lib/python3.8/dist-packages (from ftfy->carefree-client>=0.1.2->carefree-creator==0.1.0) (0.2.5)\n",
            "Requirement already satisfied: greenlet<2.0,>=1.1.0 in /usr/local/lib/python3.8/dist-packages (from gevent->carefree-client>=0.1.2->carefree-creator==0.1.0) (1.1.3)\n",
            "Requirement already satisfied: zope.interface in /usr/local/lib/python3.8/dist-packages (from gevent->carefree-client>=0.1.2->carefree-creator==0.1.0) (5.4.0)\n",
            "Requirement already satisfied: setuptools in /usr/lib/python3/dist-packages (from gevent->carefree-client>=0.1.2->carefree-creator==0.1.0) (39.0.1)\n",
            "Requirement already satisfied: zope.event in /usr/local/lib/python3.8/dist-packages (from gevent->carefree-client>=0.1.2->carefree-creator==0.1.0) (4.5.0)\n",
            "Requirement already satisfied: certifi in /usr/local/lib/python3.8/dist-packages (from geventhttpclient->carefree-client>=0.1.2->carefree-creator==0.1.0) (2022.6.15.1)\n",
            "Requirement already satisfied: six in /usr/lib/python3/dist-packages (from geventhttpclient->carefree-client>=0.1.2->carefree-creator==0.1.0) (1.11.0)\n",
            "Requirement already satisfied: brotli in /usr/local/lib/python3.8/dist-packages (from geventhttpclient->carefree-client>=0.1.2->carefree-creator==0.1.0) (1.0.9)\n",
            "Requirement already satisfied: protobuf<=3.20.1,>=3.12.2 in /usr/local/lib/python3.8/dist-packages (from onnx->carefree-learn[cv]>=0.3.1->carefree-creator==0.1.0) (3.20.1)\n",
            "Requirement already satisfied: coloredlogs in /usr/local/lib/python3.8/dist-packages (from onnxruntime->carefree-learn[cv]>=0.3.1->carefree-creator==0.1.0) (15.0.1)\n",
            "Requirement already satisfied: sympy in /usr/local/lib/python3.8/dist-packages (from onnxruntime->carefree-learn[cv]>=0.3.1->carefree-creator==0.1.0) (1.11.1)\n",
            "Requirement already satisfied: flatbuffers in /usr/local/lib/python3.8/dist-packages (from onnxruntime->carefree-learn[cv]>=0.3.1->carefree-creator==0.1.0) (2.0.7)\n",
            "Requirement already satisfied: packaging in /usr/local/lib/python3.8/dist-packages (from onnxruntime->carefree-learn[cv]>=0.3.1->carefree-creator==0.1.0) (21.3)\n",
            "Requirement already satisfied: urllib3<1.27,>=1.21.1 in /usr/local/lib/python3.8/dist-packages (from requests->carefree-client>=0.1.2->carefree-creator==0.1.0) (1.26.12)\n",
            "Requirement already satisfied: sqlalchemy2-stubs in /usr/local/lib/python3.8/dist-packages (from sqlmodel->carefree-client>=0.1.2->carefree-creator==0.1.0) (0.0.2a27)\n",
            "Requirement already satisfied: SQLAlchemy<=1.4.41,>=1.4.17 in /usr/local/lib/python3.8/dist-packages (from sqlmodel->carefree-client>=0.1.2->carefree-creator==0.1.0) (1.4.41)\n",
            "Requirement already satisfied: h11>=0.8 in /usr/local/lib/python3.8/dist-packages (from uvicorn[standard]->carefree-client>=0.1.2->carefree-creator==0.1.0) (0.13.0)\n",
            "Requirement already satisfied: click>=7.0 in /usr/local/lib/python3.8/dist-packages (from uvicorn[standard]->carefree-client>=0.1.2->carefree-creator==0.1.0) (8.1.3)\n",
            "Requirement already satisfied: watchfiles>=0.13 in /usr/local/lib/python3.8/dist-packages (from uvicorn[standard]->carefree-client>=0.1.2->carefree-creator==0.1.0) (0.17.0)\n",
            "Requirement already satisfied: uvloop!=0.15.0,!=0.15.1,>=0.14.0 in /usr/local/lib/python3.8/dist-packages (from uvicorn[standard]->carefree-client>=0.1.2->carefree-creator==0.1.0) (0.16.0)\n",
            "Requirement already satisfied: python-dotenv>=0.13 in /usr/local/lib/python3.8/dist-packages (from uvicorn[standard]->carefree-client>=0.1.2->carefree-creator==0.1.0) (0.21.0)\n",
            "Requirement already satisfied: websockets>=10.0 in /usr/local/lib/python3.8/dist-packages (from uvicorn[standard]->carefree-client>=0.1.2->carefree-creator==0.1.0) (10.3)\n",
            "Requirement already satisfied: httptools>=0.4.0 in /usr/local/lib/python3.8/dist-packages (from uvicorn[standard]->carefree-client>=0.1.2->carefree-creator==0.1.0) (0.5.0)\n",
            "Requirement already satisfied: sniffio>=1.1 in /usr/local/lib/python3.8/dist-packages (from anyio<5,>=3.4.0->starlette->carefree-client>=0.1.2->carefree-creator==0.1.0) (1.3.0)\n",
            "Requirement already satisfied: scikit-learn>=0.19.1 in /usr/local/lib/python3.8/dist-packages (from qudida>=0.0.4->albumentations->carefree-learn[cv]>=0.3.1->carefree-creator==0.1.0) (1.1.2)\n",
            "Requirement already satisfied: networkx>=2.2 in /usr/local/lib/python3.8/dist-packages (from scikit-image->carefree-cv>=0.1.0->carefree-learn[cv]>=0.3.1->carefree-creator==0.1.0) (2.8.6)\n",
            "Requirement already satisfied: PyWavelets>=1.1.1 in /usr/local/lib/python3.8/dist-packages (from scikit-image->carefree-cv>=0.1.0->carefree-learn[cv]>=0.3.1->carefree-creator==0.1.0) (1.3.0)\n",
            "Requirement already satisfied: imageio>=2.4.1 in /usr/local/lib/python3.8/dist-packages (from scikit-image->carefree-cv>=0.1.0->carefree-learn[cv]>=0.3.1->carefree-creator==0.1.0) (2.21.3)\n",
            "Requirement already satisfied: tifffile>=2019.7.26 in /usr/local/lib/python3.8/dist-packages (from scikit-image->carefree-cv>=0.1.0->carefree-learn[cv]>=0.3.1->carefree-creator==0.1.0) (2022.8.12)\n",
            "Requirement already satisfied: pyparsing!=3.0.5,>=2.0.2 in /usr/local/lib/python3.8/dist-packages (from packaging->onnxruntime->carefree-learn[cv]>=0.3.1->carefree-creator==0.1.0) (3.0.9)\n",
            "Requirement already satisfied: humanfriendly>=9.1 in /usr/local/lib/python3.8/dist-packages (from coloredlogs->onnxruntime->carefree-learn[cv]>=0.3.1->carefree-creator==0.1.0) (10.0)\n",
            "Requirement already satisfied: ppft>=1.7.6.5 in /usr/local/lib/python3.8/dist-packages (from pathos->carefree-toolkit>=0.2.17->carefree-learn[cv]>=0.3.1->carefree-creator==0.1.0) (1.7.6.5)\n",
            "Requirement already satisfied: multiprocess>=0.70.13 in /usr/local/lib/python3.8/dist-packages (from pathos->carefree-toolkit>=0.2.17->carefree-learn[cv]>=0.3.1->carefree-creator==0.1.0) (0.70.13)\n",
            "Requirement already satisfied: pox>=0.3.1 in /usr/local/lib/python3.8/dist-packages (from pathos->carefree-toolkit>=0.2.17->carefree-learn[cv]>=0.3.1->carefree-creator==0.1.0) (0.3.1)\n",
            "Requirement already satisfied: pygments<3.0.0,>=2.6.0 in /usr/local/lib/python3.8/dist-packages (from rich->onnx-simplifier>=0.4.1->carefree-learn[cv]>=0.3.1->carefree-creator==0.1.0) (2.13.0)\n",
            "Requirement already satisfied: commonmark<0.10.0,>=0.9.0 in /usr/local/lib/python3.8/dist-packages (from rich->onnx-simplifier>=0.4.1->carefree-learn[cv]>=0.3.1->carefree-creator==0.1.0) (0.9.1)\n",
            "Requirement already satisfied: mpmath>=0.19 in /usr/local/lib/python3.8/dist-packages (from sympy->onnxruntime->carefree-learn[cv]>=0.3.1->carefree-creator==0.1.0) (1.2.1)\n",
            "Requirement already satisfied: joblib>=1.0.0 in /usr/local/lib/python3.8/dist-packages (from scikit-learn>=0.19.1->qudida>=0.0.4->albumentations->carefree-learn[cv]>=0.3.1->carefree-creator==0.1.0) (1.1.0)\n",
            "Requirement already satisfied: threadpoolctl>=2.0.0 in /usr/local/lib/python3.8/dist-packages (from scikit-learn>=0.19.1->qudida>=0.0.4->albumentations->carefree-learn[cv]>=0.3.1->carefree-creator==0.1.0) (3.1.0)\n",
            "Installing collected packages: carefree-creator\n",
            "  Running setup.py develop for carefree-creator\n",
            "Successfully installed carefree-creator\n",
            "\u001b[33mWARNING: Running pip as the 'root' user can result in broken permissions and conflicting behaviour with the system package manager. It is recommended to use a virtual environment instead: https://pip.pypa.io/warnings/venv\u001b[0m\u001b[33m\n",
            "\u001b[0m"
          ]
        }
      ],
      "source": [
        "!rm -rf carefree-*\n",
        "!pip3 install torch torchvision torchaudio --extra-index-url https://download.pytorch.org/whl/cu113\n",
        "!git clone https://github.com/carefree0910/carefree-learn.git\n",
        "!git clone https://github.com/carefree0910/carefree-creator.git\n",
        "!cd carefree-learn; pip3 install -e .[cv]\n",
        "!cd carefree-creator; pip3 install -e ."
      ]
    },
    {
      "cell_type": "markdown",
      "source": [
        "## 1.3 Download Pretrained Models"
      ],
      "metadata": {
        "id": "YEyTlwJLJK7F"
      }
    },
    {
      "cell_type": "code",
      "source": [
        "!python -c \"import cflearn; cflearn.cv.DiffusionAPI.from_sd(); cflearn.cv.DiffusionAPI.from_inpainting()\""
      ],
      "metadata": {
        "id": "FVRIqLFpJRfO"
      },
      "execution_count": 12,
      "outputs": []
    },
    {
      "cell_type": "markdown",
      "source": [
        "# Launch Server"
      ],
      "metadata": {
        "id": "15YrptUgQyn9"
      }
    },
    {
      "cell_type": "markdown",
      "source": [
        "## Use `nohup` to run the server in the background"
      ],
      "metadata": {
        "id": "D6yL3khwSVmt"
      }
    },
    {
      "cell_type": "code",
      "source": [
        "!nohup uvicorn apis.interface:app --host 0.0.0.0 --port 8123 >& server.log &"
      ],
      "metadata": {
        "id": "x5LhCo5WQ1d2"
      },
      "execution_count": 15,
      "outputs": []
    },
    {
      "cell_type": "markdown",
      "source": [
        "## Test the server"
      ],
      "metadata": {
        "id": "RA1v-BY-SZyT"
      }
    },
    {
      "cell_type": "code",
      "source": [
        "# Wait until this command returns {\"msg\":\"Hello, carefree0910!\"}\n",
        "!curl -X POST -H \"Content-Type: application/json\" -d '{\"name\": \"carefree0910\"}' http://localhost:8123/demo/hello"
      ],
      "metadata": {
        "colab": {
          "base_uri": "https://localhost:8080/"
        },
        "id": "l3iQ9XqOScL5",
        "outputId": "00a58d04-acfc-4981-a588-32ad6a50f25a"
      },
      "execution_count": 16,
      "outputs": [
        {
          "output_type": "stream",
          "name": "stdout",
          "text": [
            "{\"msg\":\"Hello, carefree0910!\"}"
          ]
        }
      ]
    },
    {
      "cell_type": "markdown",
      "source": [
        "# Launch UI"
      ],
      "metadata": {
        "id": "qpqgkHFfVisc"
      }
    },
    {
      "cell_type": "code",
      "source": [],
      "metadata": {
        "id": "pAkeigu5VkM2"
      },
      "execution_count": null,
      "outputs": []
    }
  ]
}